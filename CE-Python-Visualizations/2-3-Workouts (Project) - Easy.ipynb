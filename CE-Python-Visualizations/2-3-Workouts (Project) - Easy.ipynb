{
 "cells": [
  {
   "cell_type": "markdown",
   "metadata": {},
   "source": [
    "# Assignment 3 - Building a Custom Visualization\n",
    "\n",
    "---\n",
    "\n",
    "In this assignment you must choose one of the options presented below and submit a visual as well as your source code for peer grading. The details of how you solve the assignment are up to you, although your assignment must use matplotlib so that your peers can evaluate your work. The options differ in challenge level, but there are no grades associated with the challenge level you chose. However, your peers will be asked to ensure you at least met a minimum quality for a given technique in order to pass. Implement the technique fully (or exceed it!) and you should be able to earn full grades for the assignment.\n",
    "\n",
    "\n",
    "&nbsp;&nbsp;&nbsp;&nbsp;&nbsp;&nbsp;Ferreira, N., Fisher, D., & Konig, A. C. (2014, April). [Sample-oriented task-driven visualizations: allowing users to make better, more confident decisions.](https://www.microsoft.com/en-us/research/wp-content/uploads/2016/02/Ferreira_Fisher_Sample_Oriented_Tasks.pdf) \n",
    "&nbsp;&nbsp;&nbsp;&nbsp;&nbsp;&nbsp;In Proceedings of the SIGCHI Conference on Human Factors in Computing Systems (pp. 571-580). ACM. ([video](https://www.youtube.com/watch?v=BI7GAs-va-Q))\n",
    "\n",
    "\n",
    "In this [paper](https://www.microsoft.com/en-us/research/wp-content/uploads/2016/02/Ferreira_Fisher_Sample_Oriented_Tasks.pdf) the authors describe the challenges users face when trying to make judgements about probabilistic data generated through samples. As an example, they look at a bar chart of four years of data (replicated below in Figure 1). Each year has a y-axis value, which is derived from a sample of a larger dataset. For instance, the first value might be the number votes in a given district or riding for 1992, with the average being around 33,000. On top of this is plotted the 95% confidence interval for the mean (see the boxplot lectures for more information, and the yerr parameter of barcharts).\n",
    "\n",
    "<br>\n",
    "<img src=\"readonly/Assignment3Fig1.png\" alt=\"Figure 1\" style=\"width: 400px;\"/>\n",
    "<h4 style=\"text-align: center;\" markdown=\"1\">  &nbsp;&nbsp;&nbsp;&nbsp;&nbsp;&nbsp;&nbsp;&nbsp;Figure 1 from (Ferreira et al, 2014).</h4>\n",
    "\n",
    "<br>\n",
    "\n",
    "A challenge that users face is that, for a given y-axis value (e.g. 42,000), it is difficult to know which x-axis values are most likely to be representative, because the confidence levels overlap and their distributions are different (the lengths of the confidence interval bars are unequal). One of the solutions the authors propose for this problem (Figure 2c) is to allow users to indicate the y-axis value of interest (e.g. 42,000) and then draw a horizontal line and color bars based on this value. So bars might be colored red if they are definitely above this value (given the confidence interval), blue if they are definitely below this value, or white if they contain this value.\n",
    "\n",
    "\n",
    "<br>\n",
    "<img src=\"readonly/Assignment3Fig2c.png\" alt=\"Figure 1\" style=\"width: 400px;\"/>\n",
    "<h4 style=\"text-align: center;\" markdown=\"1\">  Figure 2c from (Ferreira et al. 2014). Note that the colorbar legend at the bottom as well as the arrows are not required in the assignment descriptions below.</h4>\n",
    "\n",
    "<br>\n",
    "<br>\n",
    "\n",
    "**Easiest option:** Implement the bar coloring as described above - a color scale with only three colors, (e.g. blue, white, and red). Assume the user provides the y axis value of interest as a parameter or variable.\n",
    "\n",
    "\n",
    "**Harder option:** Implement the bar coloring as described in the paper, where the color of the bar is actually based on the amount of data covered (e.g. a gradient ranging from dark blue for the distribution being certainly below this y-axis, to white if the value is certainly contained, to dark red if the value is certainly not contained as the distribution is above the axis).\n",
    "\n",
    "**Even Harder option:** Add interactivity to the above, which allows the user to click on the y axis to set the value of interest. The bar colors should change with respect to what value the user has selected.\n",
    "\n",
    "**Hardest option:** Allow the user to interactively set a range of y values they are interested in, and recolor based on this (e.g. a y-axis band, see the paper for more details).\n",
    "\n",
    "---\n",
    "\n",
    "*Note: The data given for this assignment is not the same as the data used in the article and as a result the visualizations may look a little different.*"
   ]
  },
  {
   "cell_type": "code",
   "execution_count": null,
   "metadata": {
    "collapsed": false
   },
   "outputs": [],
   "source": [
    "# Use the following data for this assignment:\n",
    "\n",
    "import pandas as pd\n",
    "import numpy as np\n",
    "\n",
    "np.random.seed(12345)\n",
    "\n",
    "df = pd.DataFrame([np.random.normal(32000,200000,3650), \n",
    "                   np.random.normal(43000,100000,3650), \n",
    "                   np.random.normal(43500,140000,3650), \n",
    "                   np.random.normal(48000,70000,3650)], \n",
    "                  index=[1992,1993,1994,1995])\n",
    "df"
   ]
  },
  {
   "cell_type": "markdown",
   "metadata": {
    "collapsed": true
   },
   "source": [
    "# Assignment 3 (Building a Custome Visualization)- Solution"
   ]
  },
  {
   "cell_type": "code",
   "execution_count": 10,
   "metadata": {
    "collapsed": false
   },
   "outputs": [
    {
     "name": "stdout",
     "output_type": "stream",
     "text": [
      "Enter the Y-axis value: 43000\n"
     ]
    },
    {
     "data": {
      "image/png": "[encoded data removed]",
      "text/plain": [
       "<matplotlib.figure.Figure at 0x7feb5a306e48>"
      ]
     },
     "metadata": {},
     "output_type": "display_data"
    }
   ],
   "source": [
    "###     IMPORT LIBRARIES     ###\n",
    "import pandas as pd\n",
    "import numpy as np\n",
    "import matplotlib.pyplot as plt\n",
    "from scipy.stats import sem, t\n",
    "\n",
    "\n",
    "###     FUNCTION DEFINITIONS     ###\n",
    "# Define a Function to calculate the Mean Error\n",
    "def mean_err(data):\n",
    "    semval = sem(data)                                    # Calculate the Standard Error of the Means\n",
    "    tval   = t.ppf((1 + conf_int) / 2, (len(data) - 1))   # Calculate the T value at the Confidence Interval\n",
    "    merr   = (semval * tval)                              # Calculate the Mean Error\n",
    "    return merr\n",
    "\n",
    "###     DATA PREPARATIONS     ###\n",
    "np.random.seed(12345)\n",
    "df = pd.DataFrame([np.random.normal(32000,200000,3650), \n",
    "                   np.random.normal(43000,100000,3650), \n",
    "                   np.random.normal(43500,140000,3650), \n",
    "                   np.random.normal(48000,70000,3650)], \n",
    "                   index=[1992,1993,1994,1995])\n",
    "\n",
    "conf_int = 0.95  # Confidence Interval is 95%\n",
    "\n",
    "# Create an array for the Mean values for the years 1992 - 1995\n",
    "a_mean = (np.array(df.iloc[0,:]).mean(),                  # for 1992\n",
    "          np.array(df.iloc[1,:]).mean(),                  # for 1993\n",
    "          np.array(df.iloc[2,:]).mean(),                  # for 1994\n",
    "          np.array(df.iloc[3,:]).mean())                  # for 1995\n",
    "\n",
    "# Create an array for the Mean Errors for the years 1992 -1995\n",
    "a_merr = (mean_err(np.array(df.iloc[0,:])),               # for 1992\n",
    "          mean_err(np.array(df.iloc[1,:])),               # for 1993\n",
    "          mean_err(np.array(df.iloc[2,:])),               # for 1994\n",
    "          mean_err(np.array(df.iloc[3,:])))               # for 1995\n",
    "\n",
    "\n",
    "###     DATA VISUALIZATION     ###\n",
    "yval = input('Enter the Y-axis value: ')\n",
    "yval = int(float(yval))\n",
    "\n",
    "clr = []\n",
    "for i, j in zip(a_mean, a_merr):\n",
    "    if (i + j > yval) and (i - j > yval):\n",
    "        clr.append(\"red\")\n",
    "    elif (i + j < yval) and (i - j < yval):\n",
    "        clr.append(\"blue\")\n",
    "    else:\n",
    "        clr.append(\"white\")\n",
    "\n",
    "fig = plt.figure()\n",
    "ax = fig.add_subplot(111)\n",
    "\n",
    "ax.bar(left = (1, 2, 3, 4), \n",
    "       height = a_mean, \n",
    "       yerr = a_merr, \n",
    "       tick_label = [\"1992\", \"1993\", \"1994\", \"1995\"],\n",
    "       capsize = 5,\n",
    "       color = clr,\n",
    "       edgecolor = \"black\")\n",
    "\n",
    "plt.title(\"Data for the Years 1992 to 1995\", fontsize = \"x-large\", alpha = 0.6)\n",
    "ax.set_xlabel(\"Years\", fontsize = 'large', alpha = 0.6)\n",
    "ax.set_ylabel(\"Data Value\", fontsize = 'large', alpha = 0.6)\n",
    "ax.tick_params(top = 'off', right = 'off', bottom = 'off')\n",
    "ax.axhline(yval, color=\"green\", linewidth = 1, alpha = 0.6)\n",
    "ax.text(1.02, yval, yval, va='center', ha=\"left\", bbox=dict(facecolor=\"w\",alpha=0.2),\n",
    "       transform=ax.get_yaxis_transform())\n",
    "\n",
    "# Remove the Outer frame from all 4 sides\n",
    "for spine in ax.spines:\n",
    "    ax.spines[spine].set_visible(False)\n",
    "\n",
    "# Set only the Bottom frame visible\n",
    "ax.spines['left'].set_visible(True)\n",
    "ax.spines['left'].set_alpha(0.2)\n",
    "ax.spines['bottom'].set_visible(True)\n",
    "ax.spines['bottom'].set_alpha(0.3)\n",
    "\n",
    "plt.show()    \n",
    "\n",
    "###     CALCULATED VALUES FOR VERIFICATION     ###\n",
    "# ----     ----------------     ----------------     -----------     -----------\n",
    "# YEAR     MEAN                 MEAN ERROR (ME)      (MEAN + ME)     (M - ME)\n",
    "# ----     ----------------     ----------------     -----------     -----------\n",
    "# 92       33312.1074755443     6510.93801801402     39823.04549     26801.16946\n",
    "# 93       41861.8595410733     3193.25484437759     45055.11439     38668.60470\n",
    "# 94       39493.3049413988     4555.32959160197     44048.63453     34937.97535\n",
    "# 95       47743.5509692670     2264.56129089468     50008.11226     45478.98968\n",
    "# ----     ----------------     ----------------     -----------     -----------\n"
   ]
  },
  {
   "cell_type": "code",
   "execution_count": null,
   "metadata": {
    "collapsed": true
   },
   "outputs": [],
   "source": []
  },
  {
   "cell_type": "code",
   "execution_count": null,
   "metadata": {
    "collapsed": true
   },
   "outputs": [],
   "source": []
  }
 ],
 "metadata": {
  "kernelspec": {
   "display_name": "Python 3",
   "language": "python",
   "name": "python3"
  },
  "language_info": {
   "codemirror_mode": {
    "name": "ipython",
    "version": 3
   },
   "file_extension": ".py",
   "mimetype": "text/x-python",
   "name": "python",
   "nbconvert_exporter": "python",
   "pygments_lexer": "ipython3",
   "version": "3.6.2"
  }
 },
 "nbformat": 4,
 "nbformat_minor": 2
}
